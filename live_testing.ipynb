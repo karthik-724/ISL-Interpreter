{
 "cells": [
  {
   "cell_type": "code",
   "execution_count": 9,
   "metadata": {},
   "outputs": [],
   "source": [
    "import numpy as np\n",
    "import pandas as pd\n",
    "import cv2\n",
    "import pickle\n",
    "import mediapipe as mp\n",
    "from sklearn.preprocessing import StandardScaler\n"
   ]
  },
  {
   "cell_type": "code",
   "execution_count": 12,
   "metadata": {},
   "outputs": [],
   "source": [
    "train_df = pd.read_csv('landmark_data/landmarks_train_v3.csv')\n",
    "X_train = train_df.iloc[:, 1:].values\n",
    "scaler = StandardScaler().fit(X_train)\n",
    "with open('trained_models/random_forest_model.pkl', 'rb') as f:\n",
    "    loaded_model = pickle.load(f)"
   ]
  },
  {
   "cell_type": "code",
   "execution_count": 4,
   "metadata": {},
   "outputs": [
    {
     "name": "stderr",
     "output_type": "stream",
     "text": [
      "WARNING: All log messages before absl::InitializeLog() is called are written to STDERR\n",
      "I0000 00:00:1709473465.629452   15239 gl_context_egl.cc:85] Successfully initialized EGL. Major : 1 Minor: 5\n",
      "I0000 00:00:1709473465.636040   15311 gl_context.cc:344] GL version: 3.2 (OpenGL ES 3.2 Mesa 23.0.4-0ubuntu1~22.04.1), renderer: Mesa Intel(R) Xe Graphics (TGL GT2)\n"
     ]
    },
    {
     "name": "stderr",
     "output_type": "stream",
     "text": [
      "INFO: Created TensorFlow Lite XNNPACK delegate for CPU.\n"
     ]
    }
   ],
   "source": [
    "mp_hands = mp.solutions.hands\n",
    "mp_drawing = mp.solutions.drawing_utils\n",
    "\n",
    "confidence = 0.5\n",
    "hands = mp_hands.Hands(static_image_mode=True, max_num_hands=2, min_detection_confidence=confidence)"
   ]
  },
  {
   "cell_type": "code",
   "execution_count": 5,
   "metadata": {},
   "outputs": [
    {
     "name": "stdout",
     "output_type": "stream",
     "text": [
      "how,you : How are you?\n",
      "how,you,name : What is you name?\n",
      "where,you,house : Where do you live?\n",
      "nice,meet,you : Nice to meet you.\n",
      "me,sorry : I am sorry.\n",
      "me,love,learn : I love learning\n",
      "you,look,nice : You look beautliful.\n",
      "me,love,you : I love you.\n",
      "me,you,meet : Shall we meet?\n",
      "help,me : Please help me.\n",
      "where,you : Where are you?\n",
      "me,look,help : I am looking for help\n",
      "how,help,me,you : How can I help you?\n",
      "learn,you,me : Let's learn together\n"
     ]
    }
   ],
   "source": [
    "df = pd.read_csv(\"landmark_data/Gestures_sentences.csv\")\n",
    "my_dict = df.set_index('gesture_names')['sentence'].to_dict()\n",
    "for key in my_dict:\n",
    "    print(key, ':', my_dict[key])"
   ]
  },
  {
   "cell_type": "code",
   "execution_count": 16,
   "metadata": {},
   "outputs": [
    {
     "name": "stdout",
     "output_type": "stream",
     "text": [
      "how you : How are you?\n",
      "how you name : What is you name?\n",
      "where you house : Where do you live?\n",
      "nice meet you : Nice to meet you.\n",
      "me sorry : I am sorry.\n",
      "me love learn : I love learning\n",
      "you look nice : You look beautliful.\n",
      "me love you : I love you.\n",
      "me you meet : Shall we meet?\n",
      "help me : Please help me.\n",
      "where you : Where are you?\n",
      "me look help : I am looking for help\n",
      "how help me you : How can I help you?\n",
      "learn you me : Let's learn together\n"
     ]
    }
   ],
   "source": [
    "final_dict = {}\n",
    "for key in my_dict:\n",
    "    t = []\n",
    "    words = key.split(',')\n",
    "    for word in words:\n",
    "        t.append(word)\n",
    "    s = ' '.join(t)\n",
    "    final_dict[s] = my_dict[key]\n",
    "for key in final_dict:\n",
    "    print(key, ':', final_dict[key])\n",
    "    "
   ]
  },
  {
   "cell_type": "code",
   "execution_count": 24,
   "metadata": {},
   "outputs": [],
   "source": [
    "\n",
    "word_limit = 3 \n",
    "def generate_caption(word, seq):\n",
    "    res = ''\n",
    "    if len(seq) < word_limit:\n",
    "        seq.append(word)\n",
    "        seq.append(word)\n",
    "        s = ' '.join(seq)\n",
    "        if s in final_dict:\n",
    "            res = final_dict[s]\n",
    "\n",
    "    elif len(seq) == word_limit:\n",
    "        seq.pop(0)\n",
    "        s = ' '.join(seq)\n",
    "        if s in final_dict:\n",
    "            res = final_dict[s]\n",
    "        seq.append(word)\n",
    "        s = ' '.join(seq)\n",
    "        if s in final_dict:\n",
    "            res = final_dict[s]   \n",
    "    return res"
   ]
  },
  {
   "cell_type": "code",
   "execution_count": null,
   "metadata": {},
   "outputs": [],
   "source": [
    "cap = cv2.VideoCapture(0)\n",
    "seq = ['None']\n",
    "caption = ''\n",
    "prev_caption = ''\n",
    "\n",
    "while cap.isOpened():\n",
    "    ret, image = cap.read()\n",
    "\n",
    "    if not ret:\n",
    "        continue\n",
    "    \n",
    "    image = cv2.cvtColor(image, cv2.COLOR_BGR2RGB)\n",
    "    image.flags.writeable = False\n",
    "\n",
    "    results = hands.process(image)\n",
    "\n",
    "    image.flags.writeable = True\n",
    "    \n",
    "    #converting the BGR image to RGB.\n",
    "    image = cv2.cvtColor(image, cv2.COLOR_RGB2BGR)\n",
    "\n",
    "    both_hand_landmarks = []\n",
    "    if results.multi_hand_landmarks:\n",
    "        for hand_landmarks in results.multi_hand_landmarks:\n",
    "            mp_drawing.draw_landmarks(image, hand_landmarks, mp_hands.HAND_CONNECTIONS)\n",
    "            landmarks = []\n",
    "            for landmark in hand_landmarks.landmark:\n",
    "                # Extract x, y coordinates (relative to image dimensions)\n",
    "                x = landmark.x\n",
    "                y = landmark.y\n",
    "                # Append coordinates to the list\n",
    "                landmarks.append((x, y))\n",
    "            both_hand_landmarks.append(landmarks)\n",
    "        \n",
    "        if len(both_hand_landmarks) == 1:\n",
    "            both_hand_landmarks.append([(0, 0)] * len(both_hand_landmarks[0]))\n",
    "        values = list(np.array(both_hand_landmarks).flatten())\n",
    "        values = scaler.transform([values])\n",
    "        predicted = loaded_model.predict(values)\n",
    "        cv2.rectangle(image, (0,0), (160, 60), (245, 90, 16), -1)\n",
    "        # Displaying Class\n",
    "        cv2.putText(image, 'Predicted Gesture'\n",
    "                    , (20,15), cv2.FONT_HERSHEY_SIMPLEX, 0.5, (0, 0, 0), 1, cv2.LINE_AA)\n",
    "        cv2.putText(image, str(predicted[0])\n",
    "                    , (20,45), cv2.FONT_HERSHEY_SIMPLEX, 1, (255, 255, 255), 2, cv2.LINE_AA)  \n",
    "    \n",
    "        # Add caption text\n",
    "        if seq[-1] != predicted[0]:\n",
    "            caption = generate_caption(predicted[0], seq)\n",
    "        if caption == '':\n",
    "            caption= prev_caption\n",
    "        else:\n",
    "            prev_caption = caption\n",
    "    caption_size = cv2.getTextSize(caption, cv2.FONT_HERSHEY_SIMPLEX, 0.8, 2)[0]\n",
    "    caption_x = int((image.shape[1] - caption_size[0]) / 2)\n",
    "    caption_y = image.shape[0] - 10  # Adjust 10 for padding\n",
    "    cv2.putText(image, caption, (caption_x, caption_y), cv2.FONT_HERSHEY_SIMPLEX, 0.8, (0, 255, 0), 2, cv2.LINE_AA)\n",
    "\n",
    "    \n",
    "    cv2.imshow('Sign Translator', image)\n",
    "\n",
    "    if cv2.waitKey(1) & 0xFF == ord('q'):\n",
    "        break\n",
    "\n",
    "cap.release()\n",
    "cv2.destroyAllWindows()"
   ]
  },
  {
   "cell_type": "code",
   "execution_count": 32,
   "metadata": {},
   "outputs": [],
   "source": [
    "cap.release()\n",
    "cv2.destroyAllWindows()"
   ]
  },
  {
   "cell_type": "code",
   "execution_count": null,
   "metadata": {},
   "outputs": [],
   "source": []
  },
  {
   "cell_type": "code",
   "execution_count": null,
   "metadata": {},
   "outputs": [],
   "source": []
  }
 ],
 "metadata": {
  "kernelspec": {
   "display_name": "Python 3",
   "language": "python",
   "name": "python3"
  },
  "language_info": {
   "codemirror_mode": {
    "name": "ipython",
    "version": 3
   },
   "file_extension": ".py",
   "mimetype": "text/x-python",
   "name": "python",
   "nbconvert_exporter": "python",
   "pygments_lexer": "ipython3",
   "version": "3.10.12"
  }
 },
 "nbformat": 4,
 "nbformat_minor": 2
}
