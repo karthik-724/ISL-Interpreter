{
 "cells": [
  {
   "cell_type": "code",
   "execution_count": 2,
   "metadata": {},
   "outputs": [],
   "source": [
    "import numpy as np\n",
    "import cv2\n",
    "import os\n",
    "import mediapipe as mp\n",
    "import csv"
   ]
  },
  {
   "cell_type": "code",
   "execution_count": 3,
   "metadata": {},
   "outputs": [],
   "source": [
    "def extract_hand_landmarks(image_path, hands):\n",
    "\n",
    "    #Processing image \n",
    "    image = cv2.imread(image_path)\n",
    "    image_rgb = cv2.cvtColor(image, cv2.COLOR_BGR2RGB)\n",
    "\n",
    "\n",
    "    #Initializing mediapipe object and extracting results \n",
    "    results = hands.process(image_rgb)\n",
    "\n",
    "    #Gathering required landmarks if exists\n",
    "    both_hand_landmarks = []\n",
    "\n",
    "    if results.multi_hand_landmarks:\n",
    "        for hand_landmarks in results.multi_hand_landmarks:\n",
    "            landmarks = []\n",
    "            for landmark in hand_landmarks.landmark:\n",
    "                # Extract x, y coordinates (relative to image dimensions)\n",
    "                x = landmark.x\n",
    "                y = landmark.y\n",
    "                # Append coordinates to the list\n",
    "                landmarks.append((x, y))\n",
    "            both_hand_landmarks.append(landmarks)\n",
    "        if len(both_hand_landmarks) == 1:\n",
    "            both_hand_landmarks.append([(0, 0)] * len(both_hand_landmarks[0]))\n",
    "    else:\n",
    "        return None\n",
    "    return both_hand_landmarks"
   ]
  },
  {
   "cell_type": "code",
   "execution_count": 5,
   "metadata": {},
   "outputs": [
    {
     "data": {
      "text/plain": [
       "85"
      ]
     },
     "execution_count": 5,
     "metadata": {},
     "output_type": "execute_result"
    }
   ],
   "source": [
    "\n",
    "# landmarks = ['class']\n",
    "# for val in range(1, 22):\n",
    "#     landmarks += ['lx{}'.format(val), 'ly{}'.format(val)]\n",
    "# for val in range(1, 22):\n",
    "#     landmarks += ['rx{}'.format(val), 'ry{}'.format(val)]\n",
    "# len(landmarks)"
   ]
  },
  {
   "cell_type": "code",
   "execution_count": 27,
   "metadata": {},
   "outputs": [],
   "source": [
    "# headers = landmarks\n",
    "train_filename = \"landmarks_train.csv\"\n",
    "test_filename = \"landmarks_test.csv\"\n",
    "# with open(train_filename, mode='w', newline='') as file:\n",
    "#         writer = csv.writer(file)\n",
    "#         writer.writerow(headers)\n",
    "# with open(test_filename, mode='w', newline='') as file:\n",
    "#         writer = csv.writer(file)\n",
    "#         writer.writerow(headers)"
   ]
  },
  {
   "cell_type": "code",
   "execution_count": 28,
   "metadata": {},
   "outputs": [
    {
     "name": "stderr",
     "output_type": "stream",
     "text": [
      "I0000 00:00:1709111551.557515   17408 gl_context_egl.cc:85] Successfully initialized EGL. Major : 1 Minor: 5\n",
      "I0000 00:00:1709111551.558907   21027 gl_context.cc:344] GL version: 3.2 (OpenGL ES 3.2 Mesa 23.0.4-0ubuntu1~22.04.1), renderer: Mesa Intel(R) Xe Graphics (TGL GT2)\n"
     ]
    }
   ],
   "source": [
    "mp_hands = mp.solutions.hands\n",
    "confidence = 0.7\n",
    "hands = mp_hands.Hands(static_image_mode=True, max_num_hands=2, min_detection_confidence=confidence)\n"
   ]
  },
  {
   "cell_type": "code",
   "execution_count": 29,
   "metadata": {},
   "outputs": [
    {
     "name": "stdout",
     "output_type": "stream",
     "text": [
      "Collecting landmarks for learn\n"
     ]
    },
    {
     "name": "stderr",
     "output_type": "stream",
     "text": [
      "/home/karthik/.local/lib/python3.10/site-packages/google/protobuf/symbol_database.py:78: UserWarning: SymbolDatabase.GetPrototype() is deprecated. Please use message_factory.GetMessageClass() instead. SymbolDatabase.GetPrototype() will be removed soon.\n",
      "  warnings.warn('SymbolDatabase.GetPrototype() is deprecated. Please '\n"
     ]
    },
    {
     "name": "stdout",
     "output_type": "stream",
     "text": [
      "Collecting landmarks for me\n",
      "Collecting landmarks for you\n",
      "Collecting landmarks for like\n",
      "Collecting landmarks for meet\n",
      "Collecting landmarks for nice\n",
      "Collecting landmarks for sorry\n",
      "Collecting landmarks for up\n",
      "Collecting landmarks for help\n",
      "Collecting landmarks for how\n",
      "Collecting landmarks for wait\n",
      "Collecting landmarks for where\n",
      "Collecting landmarks for love\n",
      "Collecting landmarks for see\n",
      "Collecting landmarks for hello\n",
      "Collecting landmarks for house\n",
      "Collecting landmarks for name\n"
     ]
    }
   ],
   "source": [
    "\n",
    "for gesture_dir in os.listdir('Dataset'):\n",
    "    gesture_path = os.path.join('Dataset', gesture_dir)\n",
    "    count = 0 \n",
    "    print(f'Collecting landmarks for {gesture_dir}')\n",
    "    for filename in os.listdir(gesture_path):\n",
    "        if count >= 1000 :\n",
    "            print('Collected 1000 images')\n",
    "            break\n",
    "        image_path = os.path.join(gesture_path, filename)\n",
    "        results = extract_hand_landmarks(image_path, hands )\n",
    "        if results:\n",
    "            row = [gesture_dir]\n",
    "            row += list(np.array(results).flatten())\n",
    "\n",
    "        if count < 800:\n",
    "            with open(train_filename, mode='a', newline='') as file:\n",
    "                writer = csv.writer(file)\n",
    "                writer.writerow(row)\n",
    "            count += 1 \n",
    "        else:\n",
    "            with open(test_filename, mode='a', newline='') as file:\n",
    "                writer = csv.writer(file)\n",
    "                writer.writerow(row)\n",
    "            count += 1 \n"
   ]
  },
  {
   "cell_type": "code",
   "execution_count": null,
   "metadata": {},
   "outputs": [],
   "source": []
  }
 ],
 "metadata": {
  "kernelspec": {
   "display_name": "Python 3",
   "language": "python",
   "name": "python3"
  },
  "language_info": {
   "codemirror_mode": {
    "name": "ipython",
    "version": 3
   },
   "file_extension": ".py",
   "mimetype": "text/x-python",
   "name": "python",
   "nbconvert_exporter": "python",
   "pygments_lexer": "ipython3",
   "version": "3.10.12"
  }
 },
 "nbformat": 4,
 "nbformat_minor": 2
}
