{
 "cells": [
  {
   "cell_type": "code",
   "execution_count": 15,
   "id": "f1ad936a",
   "metadata": {},
   "outputs": [],
   "source": [
    "import pandas as pd"
   ]
  },
  {
   "cell_type": "code",
   "execution_count": 21,
   "id": "1b1d05d5",
   "metadata": {},
   "outputs": [],
   "source": [
    "df = pd.read_csv(\"landmark_data/Gestures_sentences.csv\")"
   ]
  },
  {
   "cell_type": "code",
   "execution_count": 22,
   "id": "8c36e4a5",
   "metadata": {},
   "outputs": [
    {
     "data": {
      "text/html": [
       "<div>\n",
       "<style scoped>\n",
       "    .dataframe tbody tr th:only-of-type {\n",
       "        vertical-align: middle;\n",
       "    }\n",
       "\n",
       "    .dataframe tbody tr th {\n",
       "        vertical-align: top;\n",
       "    }\n",
       "\n",
       "    .dataframe thead th {\n",
       "        text-align: right;\n",
       "    }\n",
       "</style>\n",
       "<table border=\"1\" class=\"dataframe\">\n",
       "  <thead>\n",
       "    <tr style=\"text-align: right;\">\n",
       "      <th></th>\n",
       "      <th>gesture_names</th>\n",
       "      <th>sentence</th>\n",
       "    </tr>\n",
       "  </thead>\n",
       "  <tbody>\n",
       "    <tr>\n",
       "      <th>0</th>\n",
       "      <td>how,you</td>\n",
       "      <td>How are you?</td>\n",
       "    </tr>\n",
       "    <tr>\n",
       "      <th>1</th>\n",
       "      <td>how,you,name</td>\n",
       "      <td>What is you name?</td>\n",
       "    </tr>\n",
       "    <tr>\n",
       "      <th>2</th>\n",
       "      <td>where,you,house</td>\n",
       "      <td>Where do you live?</td>\n",
       "    </tr>\n",
       "    <tr>\n",
       "      <th>3</th>\n",
       "      <td>nice,meet,you</td>\n",
       "      <td>Nice to meet you.</td>\n",
       "    </tr>\n",
       "    <tr>\n",
       "      <th>4</th>\n",
       "      <td>me,sorry</td>\n",
       "      <td>I am sorry.</td>\n",
       "    </tr>\n",
       "  </tbody>\n",
       "</table>\n",
       "</div>"
      ],
      "text/plain": [
       "     gesture_names            sentence\n",
       "0          how,you        How are you?\n",
       "1     how,you,name   What is you name?\n",
       "2  where,you,house  Where do you live?\n",
       "3    nice,meet,you   Nice to meet you.\n",
       "4         me,sorry         I am sorry."
      ]
     },
     "execution_count": 22,
     "metadata": {},
     "output_type": "execute_result"
    }
   ],
   "source": [
    "df.head()"
   ]
  },
  {
   "cell_type": "code",
   "execution_count": 23,
   "id": "cf5cbd27",
   "metadata": {},
   "outputs": [
    {
     "name": "stdout",
     "output_type": "stream",
     "text": [
      "how,you : How are you?\n",
      "how,you,name : What is you name?\n",
      "where,you,house : Where do you live?\n",
      "nice,meet,you : Nice to meet you.\n",
      "me,sorry : I am sorry.\n",
      "me,love,learn : I love learning\n",
      "you,look,nice : You look beautliful.\n",
      "me,love,you : I love you.\n",
      "me,you,meet : Shall we meet?\n",
      "help,me : Please help me.\n",
      "where,you : Where are you?\n",
      "me,look,help : I am looking for help\n",
      "how,help,me,you : How can I help you?\n",
      "learn,you,me : Let's learn together\n"
     ]
    }
   ],
   "source": [
    "# Convert the DataFrame into a dictionary\n",
    "my_dict = df.set_index('gesture_names')['sentence'].to_dict()\n",
    "for key in my_dict:\n",
    "    print(key, ':', my_dict[key])\n",
    "# print(my_dict)\n"
   ]
  },
  {
   "cell_type": "code",
   "execution_count": 24,
   "id": "42d3f06d",
   "metadata": {},
   "outputs": [],
   "source": [
    "final_dict = {}\n",
    "for key in my_dict:\n",
    "    t = []\n",
    "    words = key.split(',')\n",
    "    for word in words:\n",
    "        t.append(word)\n",
    "    s = ' '.join(t)\n",
    "    final_dict[s] = my_dict[key]"
   ]
  },
  {
   "cell_type": "code",
   "execution_count": 25,
   "id": "4dff3bc1",
   "metadata": {},
   "outputs": [
    {
     "name": "stdout",
     "output_type": "stream",
     "text": [
      "how you : How are you?\n",
      "how you name : What is you name?\n",
      "where you house : Where do you live?\n",
      "nice meet you : Nice to meet you.\n",
      "me sorry : I am sorry.\n",
      "me love learn : I love learning\n",
      "you look nice : You look beautliful.\n",
      "me love you : I love you.\n",
      "me you meet : Shall we meet?\n",
      "help me : Please help me.\n",
      "where you : Where are you?\n",
      "me look help : I am looking for help\n",
      "how help me you : How can I help you?\n",
      "learn you me : Let's learn together\n"
     ]
    }
   ],
   "source": [
    "for key in final_dict:\n",
    "    print(key, ':', final_dict[key])\n",
    "    "
   ]
  },
  {
   "cell_type": "code",
   "execution_count": 26,
   "id": "221ac6f0",
   "metadata": {},
   "outputs": [
    {
     "data": {
      "text/plain": [
       "['nice', 'help', 'me', 'you', 'meet', 'me', 'love', 'learn', 'help', 'me']"
      ]
     },
     "execution_count": 26,
     "metadata": {},
     "output_type": "execute_result"
    }
   ],
   "source": [
    "l1 = ['nice', 'help', 'me', 'you', 'meet', 'me', 'love', 'learn', 'help', 'me']\n",
    "l1"
   ]
  },
  {
   "cell_type": "code",
   "execution_count": 94,
   "id": "ecd8a937",
   "metadata": {},
   "outputs": [
    {
     "name": "stdout",
     "output_type": "stream",
     "text": [
      "['nice', 'help', 'me', 'you', 'meet', 'me', 'love', 'learn', 'help', 'me']\n",
      "['nice']\n",
      "['nice', 'help']\n",
      "['nice', 'help', 'me']\n",
      "help me\n",
      "sentence :  Please help me.\n",
      "['help', 'me', 'you']\n",
      "me you meet\n",
      "sentence :  Shall we meet?\n",
      "['me', 'you', 'meet']\n",
      "['you', 'meet', 'me']\n",
      "['meet', 'me', 'love']\n",
      "me love learn\n",
      "sentence :  I love learning\n",
      "['me', 'love', 'learn']\n",
      "['love', 'learn', 'help']\n",
      "['learn', 'help', 'me']\n",
      "help me\n",
      "sentence :  Please help me.\n"
     ]
    }
   ],
   "source": [
    "seq = []\n",
    "n = 3\n",
    "print(l1)\n",
    "for word in l1:\n",
    "#     print(word, end = ' ')\n",
    "    if len(seq) < n:\n",
    "        seq.append(word)\n",
    "        s = ' '.join(seq)\n",
    "        if s in final_dict:\n",
    "            print(s)\n",
    "            res = final_dict[s]\n",
    "            print(res)\n",
    "    elif len(seq) == n:\n",
    "        seq.pop(0)\n",
    "        s = ' '.join(seq)\n",
    "        if s in final_dict:\n",
    "            print(s)\n",
    "            res = final_dict[s]   \n",
    "            print('sentence : ', res)\n",
    "            \n",
    "        seq.append(word)\n",
    "        s = ' '.join(seq)\n",
    "        if s in final_dict:\n",
    "            print(s)\n",
    "            res = final_dict[s]   \n",
    "            print('sentence : ', res)\n",
    "        \n",
    "    print(seq)\n",
    "if len(seq) == n:\n",
    "    seq.pop(0)\n",
    "    s = ' '.join(seq)\n",
    "    if s in final_dict:\n",
    "        print(s)\n",
    "        res = final_dict[s]   \n",
    "        print('sentence : ', res)"
   ]
  },
  {
   "cell_type": "code",
   "execution_count": 84,
   "id": "4ca42e15",
   "metadata": {},
   "outputs": [],
   "source": [
    "l2 = ['how', 'you', 'nice', 'house', 'you', 'help', 'where', 'learn', 'help', 'me'] \n",
    "l2"
   ]
  },
  {
   "cell_type": "code",
   "execution_count": 86,
   "id": "dd08e276",
   "metadata": {},
   "outputs": [
    {
     "name": "stdout",
     "output_type": "stream",
     "text": [
      "[]\n",
      "['how']\n",
      "how you\n",
      "How are you?\n",
      "['how', 'you']\n",
      "['how', 'you', 'nice']\n",
      "['you', 'nice', 'house']\n",
      "['nice', 'house', 'you']\n",
      "['house', 'you', 'help']\n",
      "['you', 'help', 'where']\n",
      "['help', 'where', 'learn']\n",
      "['where', 'learn', 'help']\n",
      "['learn', 'help', 'me']\n",
      "help me\n",
      "sentence :  Please help me.\n"
     ]
    }
   ],
   "source": [
    "seq = []\n",
    "n = 3\n",
    "print(l2)\n",
    "for word in l2:\n",
    "#     print(word, end = ' ')\n",
    "    if len(seq) < n:\n",
    "        seq.append(word)\n",
    "        s = ' '.join(seq)\n",
    "        if s in final_dict:\n",
    "            print(s)\n",
    "            res = final_dict[s]\n",
    "            print(res)\n",
    "    elif len(seq) == n:\n",
    "        seq.pop(0)\n",
    "        s = ' '.join(seq)\n",
    "        if s in final_dict:\n",
    "            print(s)\n",
    "            res = final_dict[s]   \n",
    "            print('sentence : ', res)\n",
    "            \n",
    "        seq.append(word)\n",
    "        s = ' '.join(seq)\n",
    "        if s in final_dict:\n",
    "            print(s)\n",
    "            res = final_dict[s]   \n",
    "            print('sentence : ', res)\n",
    "        \n",
    "    print(seq)\n",
    "if len(seq) == n:\n",
    "    seq.pop(0)\n",
    "    s = ' '.join(seq)\n",
    "    if s in final_dict:\n",
    "        print(s)\n",
    "        res = final_dict[s]   \n",
    "        print('sentence : ', res)"
   ]
  },
  {
   "cell_type": "code",
   "execution_count": 89,
   "id": "bcd1041b",
   "metadata": {},
   "outputs": [],
   "source": [
    "l3 = ['me','how', 'you', 'name', 'where', 'you', 'house', 'nice', 'meet', 'you']"
   ]
  },
  {
   "cell_type": "code",
   "execution_count": 90,
   "id": "2741784f",
   "metadata": {},
   "outputs": [
    {
     "name": "stdout",
     "output_type": "stream",
     "text": [
      "['me', 'how', 'you', 'name', 'where', 'you', 'house', 'nice', 'meet', 'you']\n",
      "['me']\n",
      "['me', 'how']\n",
      "['me', 'how', 'you']\n",
      "how you\n",
      "sentence :  How are you?\n",
      "how you name\n",
      "sentence :  What is your name?\n",
      "['how', 'you', 'name']\n",
      "['you', 'name', 'where']\n",
      "['name', 'where', 'you']\n",
      "where you\n",
      "sentence :  Where are you?\n",
      "where you house\n",
      "sentence :  Where do you live?\n",
      "['where', 'you', 'house']\n",
      "['you', 'house', 'nice']\n",
      "['house', 'nice', 'meet']\n",
      "nice meet you\n",
      "sentence :  Nice to meet you.\n",
      "['nice', 'meet', 'you']\n"
     ]
    }
   ],
   "source": [
    "seq = []\n",
    "n = 3\n",
    "print(l3)\n",
    "for word in l3:\n",
    "#     print(word, end = ' ')\n",
    "    if len(seq) < n:\n",
    "        seq.append(word)\n",
    "        s = ' '.join(seq)\n",
    "        if s in final_dict:\n",
    "            print(s)\n",
    "            res = final_dict[s]\n",
    "            print('sentence : ', res)\n",
    "    elif len(seq) == n:\n",
    "        seq.pop(0)\n",
    "        s = ' '.join(seq)\n",
    "        if s in final_dict:\n",
    "            print(s)\n",
    "            res = final_dict[s]   \n",
    "            print('sentence : ', res)\n",
    "            \n",
    "        seq.append(word)\n",
    "        s = ' '.join(seq)\n",
    "        if s in final_dict:\n",
    "            print(s)\n",
    "            res = final_dict[s]   \n",
    "            print('sentence : ', res)\n",
    "        \n",
    "    print(seq)\n",
    "if len(seq) == n:\n",
    "    seq.pop(0)\n",
    "    s = ' '.join(seq)\n",
    "    if s in final_dict:\n",
    "        print(s)\n",
    "        res = final_dict[s]   \n",
    "        print('sentence : ', res)"
   ]
  },
  {
   "cell_type": "code",
   "execution_count": null,
   "id": "3502f2f4",
   "metadata": {},
   "outputs": [],
   "source": []
  }
 ],
 "metadata": {
  "kernelspec": {
   "display_name": "Python 3 (ipykernel)",
   "language": "python",
   "name": "python3"
  },
  "language_info": {
   "codemirror_mode": {
    "name": "ipython",
    "version": 3
   },
   "file_extension": ".py",
   "mimetype": "text/x-python",
   "name": "python",
   "nbconvert_exporter": "python",
   "pygments_lexer": "ipython3",
   "version": "3.10.12"
  }
 },
 "nbformat": 4,
 "nbformat_minor": 5
}
