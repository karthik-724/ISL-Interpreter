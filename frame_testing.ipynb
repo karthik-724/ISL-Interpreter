{
 "cells": [
  {
   "cell_type": "code",
   "execution_count": 4,
   "metadata": {},
   "outputs": [],
   "source": [
    "import cv2\n",
    "import os \n",
    "import pickle\n",
    "import mediapipe as mp"
   ]
  },
  {
   "cell_type": "code",
   "execution_count": 2,
   "metadata": {},
   "outputs": [],
   "source": [
    "with open('trained_models/scaler.pkl', 'rb') as f:\n",
    "    scaler = pickle.load(f)\n",
    "with open('trained_models/random_forest_model.pkl', 'rb') as f:\n",
    "    loaded_model = pickle.load(f)"
   ]
  },
  {
   "cell_type": "code",
   "execution_count": 3,
   "metadata": {},
   "outputs": [
    {
     "name": "stderr",
     "output_type": "stream",
     "text": [
      "WARNING: All log messages before absl::InitializeLog() is called are written to STDERR\n",
      "I0000 00:00:1711167228.361744    4288 gl_context_egl.cc:85] Successfully initialized EGL. Major : 1 Minor: 5\n",
      "I0000 00:00:1711167228.366760    4544 gl_context.cc:344] GL version: 3.2 (OpenGL ES 3.2 Mesa 23.2.1-1ubuntu3.1~22.04.2), renderer: Mesa Intel(R) Xe Graphics (TGL GT2)\n"
     ]
    },
    {
     "name": "stderr",
     "output_type": "stream",
     "text": [
      "INFO: Created TensorFlow Lite XNNPACK delegate for CPU.\n"
     ]
    }
   ],
   "source": [
    "mp_hands = mp.solutions.hands\n",
    "mp_drawing = mp.solutions.drawing_utils\n",
    "\n",
    "confidence = 0.5\n",
    "hands = mp_hands.Hands(static_image_mode=True, max_num_hands=2, min_detection_confidence=confidence)"
   ]
  },
  {
   "cell_type": "code",
   "execution_count": 11,
   "metadata": {},
   "outputs": [],
   "source": [
    "def get_predicted_gesture_image(image, hands):\n",
    "    image = cv2.cvtColor(image, cv2.COLOR_BGR2RGB)\n",
    "    image.flags.writeable = False\n",
    "\n",
    "    results = hands.process(image)\n",
    "\n",
    "    image.flags.writeable = True\n",
    "    \n",
    "    #converting the BGR image to RGB.\n",
    "    image = cv2.cvtColor(image, cv2.COLOR_RGB2BGR)\n",
    "    both_hand_landmarks = []\n",
    "    if results.multi_hand_landmarks:\n",
    "        for hand_landmarks in results.multi_hand_landmarks:\n",
    "            mp_drawing.draw_landmarks(image, hand_landmarks, mp_hands.HAND_CONNECTIONS)\n",
    "            landmarks = []\n",
    "            for landmark in hand_landmarks.landmark:\n",
    "                # Extract x, y coordinates (relative to image dimensions)\n",
    "                x = landmark.x\n",
    "                y = landmark.y\n",
    "                # Append coordinates to the list\n",
    "                landmarks.append((x, y))\n",
    "            both_hand_landmarks.append(landmarks)\n",
    "        \n",
    "        if len(both_hand_landmarks) == 1:\n",
    "            both_hand_landmarks.append([(0, 0)] * len(both_hand_landmarks[0]))\n",
    "        values = list(np.array(both_hand_landmarks).flatten())\n",
    "        values = scaler.transform([values])\n",
    "        predicted = loaded_model.predict(values)\n",
    "        cv2.rectangle(image, (0,0), (160, 60), (245, 90, 16), -1)\n",
    "        # Displaying Class\n",
    "        cv2.putText(image, 'Predicted Gesture'\n",
    "                    , (20,15), cv2.FONT_HERSHEY_SIMPLEX, 0.5, (0, 0, 0), 1, cv2.LINE_AA)\n",
    "        cv2.putText(image, str(predicted[0])\n",
    "                    , (20,45), cv2.FONT_HERSHEY_SIMPLEX, 1, (255, 255, 255), 2, cv2.LINE_AA)\n",
    "    return image\n"
   ]
  },
  {
   "cell_type": "code",
   "execution_count": 6,
   "metadata": {},
   "outputs": [
    {
     "name": "stderr",
     "output_type": "stream",
     "text": [
      "/home/karthik/.local/lib/python3.10/site-packages/google/protobuf/symbol_database.py:55: UserWarning: SymbolDatabase.GetPrototype() is deprecated. Please use message_factory.GetMessageClass() instead. SymbolDatabase.GetPrototype() will be removed soon.\n",
      "  warnings.warn('SymbolDatabase.GetPrototype() is deprecated. Please '\n",
      "/home/karthik/.local/lib/python3.10/site-packages/google/protobuf/symbol_database.py:55: UserWarning: SymbolDatabase.GetPrototype() is deprecated. Please use message_factory.GetMessageClass() instead. SymbolDatabase.GetPrototype() will be removed soon.\n",
      "  warnings.warn('SymbolDatabase.GetPrototype() is deprecated. Please '\n"
     ]
    },
    {
     "name": "stdout",
     "output_type": "stream",
     "text": [
      "Processed and saved: testcase_results/testcase_output_3.jpg\n",
      "Processed and saved: testcase_results/testcase_output_1.jpg\n",
      "Processed and saved: testcase_results/testcase_output_2.jpg\n",
      "Processed and saved: testcase_results/testcase_output_4.jpg\n"
     ]
    },
    {
     "name": "stderr",
     "output_type": "stream",
     "text": [
      "/home/karthik/.local/lib/python3.10/site-packages/google/protobuf/symbol_database.py:55: UserWarning: SymbolDatabase.GetPrototype() is deprecated. Please use message_factory.GetMessageClass() instead. SymbolDatabase.GetPrototype() will be removed soon.\n",
      "  warnings.warn('SymbolDatabase.GetPrototype() is deprecated. Please '\n",
      "/home/karthik/.local/lib/python3.10/site-packages/google/protobuf/symbol_database.py:55: UserWarning: SymbolDatabase.GetPrototype() is deprecated. Please use message_factory.GetMessageClass() instead. SymbolDatabase.GetPrototype() will be removed soon.\n",
      "  warnings.warn('SymbolDatabase.GetPrototype() is deprecated. Please '\n"
     ]
    }
   ],
   "source": [
    "testcases_folder = 'testcases'\n",
    "testcase_results_folder = 'testcase_results'\n",
    "\n",
    "for filename in os.listdir(testcases_folder):\n",
    "    if filename.startswith('test_case_') and filename.endswith('.jpg'):\n",
    "        # Read image\n",
    "        image_path = os.path.join(testcases_folder, filename)\n",
    "        image = cv2.imread(image_path)\n",
    "\n",
    "        # Process image\n",
    "        processed_image = get_predicted_gesture_image(image, hands)\n",
    "\n",
    "        # Save processed image\n",
    "        output_filename = filename.replace('test_case_', 'testcase_output_')\n",
    "        output_path = os.path.join(testcase_results_folder, output_filename)\n",
    "        cv2.imwrite(output_path, processed_image)\n",
    "\n",
    "        print(f\"Processed and saved: {output_path}\")"
   ]
  },
  {
   "cell_type": "code",
   "execution_count": null,
   "metadata": {},
   "outputs": [],
   "source": []
  }
 ],
 "metadata": {
  "kernelspec": {
   "display_name": "Python 3",
   "language": "python",
   "name": "python3"
  },
  "language_info": {
   "codemirror_mode": {
    "name": "ipython",
    "version": 3
   },
   "file_extension": ".py",
   "mimetype": "text/x-python",
   "name": "python",
   "nbconvert_exporter": "python",
   "pygments_lexer": "ipython3",
   "version": "3.10.12"
  }
 },
 "nbformat": 4,
 "nbformat_minor": 2
}
